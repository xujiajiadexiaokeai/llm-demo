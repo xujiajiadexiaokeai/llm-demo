{
 "cells": [
  {
   "cell_type": "code",
   "execution_count": 12,
   "metadata": {},
   "outputs": [
    {
     "name": "stdout",
     "output_type": "stream",
     "text": [
      "ChatCompletion(id='92e12f8aa2d21712bbc271f9cc87cf61.01904e2e24a473ff89e360bcae24aad0', choices=[Choice(finish_reason='stop', index=0, logprobs=None, message=ChatCompletionMessage(content='1 + 1 = 2.\\n\\nThis is a basic arithmetic operation. When you add one to another one, you get a total of two. This is a fundamental concept in mathematics that is often used as an example to explain addition.', role='assistant', function_call=None, tool_calls=None))], created=1719298565, model='step-1-8k', object='chat.completion', service_tier=None, system_fingerprint=None, usage=CompletionUsage(completion_tokens=51, prompt_tokens=15, total_tokens=66))\n"
     ]
    }
   ],
   "source": [
    "from openai import OpenAI\n",
    " \n",
    "api_key = \"YOUR_STEP_API_KEY\"\n",
    "client = OpenAI(api_key=api_key, base_url=\"https://api.stepfun.com/v1\")\n",
    " \n",
    "completion = client.chat.completions.create(\n",
    "  model=\"step-1-8k\",\n",
    "  messages=[\n",
    "      {\"role\": \"user\", \"content\": \"What is 1+1?\"},\n",
    "  ],\n",
    ")\n",
    " \n",
    "print(completion)"
   ]
  },
  {
   "cell_type": "code",
   "execution_count": 13,
   "metadata": {},
   "outputs": [
    {
     "name": "stdout",
     "output_type": "stream",
     "text": [
      "1 + 1 = 2.\n",
      "\n",
      "This is a basic arithmetic operation. When you add one to another one, you get a total of two. This is a fundamental concept in mathematics that is often used as an example to explain addition.\n"
     ]
    }
   ],
   "source": [
    "print(completion.choices[0].message.content)"
   ]
  }
 ],
 "metadata": {
  "kernelspec": {
   "display_name": "base",
   "language": "python",
   "name": "python3"
  },
  "language_info": {
   "codemirror_mode": {
    "name": "ipython",
    "version": 3
   },
   "file_extension": ".py",
   "mimetype": "text/x-python",
   "name": "python",
   "nbconvert_exporter": "python",
   "pygments_lexer": "ipython3",
   "version": "3.11.8"
  }
 },
 "nbformat": 4,
 "nbformat_minor": 2
}
